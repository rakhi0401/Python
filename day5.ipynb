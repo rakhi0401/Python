{
 "cells": [
  {
   "cell_type": "markdown",
   "metadata": {},
   "source": [
    "#### Files\n",
    "- * Write the file data\n",
    "- * Append the file data\n",
    "- * Read the file data\n",
    "- * Word count\n",
    "- * "
   ]
  },
  {
   "cell_type": "markdown",
   "metadata": {},
   "source": [
    "# File mode\n",
    "- * W(If the file is not esists then it will create file and will put some to the file), If the file is already exists then it is rewrite the existing file data.\n",
    "- * a( If the file is not exists then it will create a file and data will be written),If the file is already exists then the data will be written from the last list\n",
    "-  * r(Used to read the file data)"
   ]
  },
  {
   "cell_type": "code",
   "execution_count": 14,
   "metadata": {},
   "outputs": [
    {
     "name": "stdout",
     "output_type": "stream",
     "text": [
      "File is created and data has written\n"
     ]
    }
   ],
   "source": [
    "def createFile(fileName):\n",
    "    f = open(fileName,'w') # FILE OPEN SYNTAX open(\"FileName\",\"FileMode\") w is consider as mode not string \n",
    "    for i in range(10):\n",
    "        f.write('This line\\n') \n",
    "    print('File is created and data has written')\n",
    "    return\n",
    "createFile('file1.txt')"
   ]
  },
  {
   "cell_type": "code",
   "execution_count": 9,
   "metadata": {},
   "outputs": [
    {
     "data": {
      "text/plain": [
       "'C:\\\\Users\\\\rakhi kumari'"
      ]
     },
     "execution_count": 9,
     "metadata": {},
     "output_type": "execute_result"
    }
   ],
   "source": [
    "pwd"
   ]
  },
  {
   "cell_type": "code",
   "execution_count": 10,
   "metadata": {},
   "outputs": [
    {
     "name": "stdout",
     "output_type": "stream",
     "text": [
      " Volume in drive C is Windows\n",
      " Volume Serial Number is 2814-91C6\n",
      "\n",
      " Directory of C:\\Users\\rakhi kumari\n",
      "\n",
      "09-01-2020  15:44    <DIR>          .\n",
      "09-01-2020  15:44    <DIR>          ..\n",
      "26-12-2019  14:42    <DIR>          .anaconda\n",
      "26-12-2019  14:44    <DIR>          .conda\n",
      "26-12-2019  14:44                43 .condarc\n",
      "09-01-2020  15:31    <DIR>          .ipynb_checkpoints\n",
      "20-12-2019  16:43    <DIR>          .ipython\n",
      "23-12-2019  10:38    <DIR>          .jupyter\n",
      "12-12-2019  10:42    <DIR>          3D Objects\n",
      "04-01-2020  13:52            61,184 768px-Python.png\n",
      "23-12-2019  10:51    <DIR>          Anaconda3\n",
      "09-01-2020  11:00             3,172 assignment 1.ipynb\n",
      "08-01-2020  16:20             4,074 assignment.ipynb\n",
      "08-01-2020  17:00             2,735 assignment1.ipynb\n",
      "12-12-2019  10:42    <DIR>          Contacts\n",
      "09-01-2020  11:31            19,715 day1.ipynb\n",
      "08-01-2020  15:44             6,776 day2.ipynb\n",
      "08-01-2020  15:31            12,669 day4.ipynb\n",
      "09-01-2020  15:44            12,024 day5.ipynb\n",
      "30-12-2019  11:46    <DIR>          Desktop\n",
      "09-01-2020  11:41            18,577 Dictionary.ipynb\n",
      "06-01-2020  16:11    <DIR>          Documents\n",
      "06-01-2020  16:35    <DIR>          Downloads\n",
      "11-12-2019  15:03    <DIR>          Dropbox\n",
      "12-12-2019  10:42    <DIR>          Favorites\n",
      "09-01-2020  15:44               110 file1.txt\n",
      "12-12-2019  10:42    <DIR>          Links\n",
      "26-08-2019  19:37    <DIR>          logs\n",
      "20-12-2019  14:29    <DIR>          Music\n",
      "07-12-2019  12:29    <DIR>          OneDrive\n",
      "27-08-2019  18:55    <DIR>          Oracle\n",
      "12-12-2019  10:42    <DIR>          Pictures\n",
      "04-01-2020  12:44            81,814 python logo.png.png\n",
      "04-01-2020  14:44            81,814 python_logo.png\n",
      "12-12-2019  10:42    <DIR>          Saved Games\n",
      "12-12-2019  10:42    <DIR>          Searches\n",
      "23-12-2019  10:41    <DIR>          Untitled Folder\n",
      "23-12-2019  10:41    <DIR>          Untitled Folder 1\n",
      "20-12-2019  16:43                72 Untitled1.ipynb\n",
      "09-01-2020  14:07             3,572 Untitled2.ipynb\n",
      "26-12-2019  15:20               555 Untitled3.ipynb\n",
      "04-01-2020  11:46             1,568 Untitled4.ipynb\n",
      "06-01-2020  10:34               555 Untitled5.ipynb\n",
      "07-01-2020  20:52             1,725 Untitled6.ipynb\n",
      "12-12-2019  10:42    <DIR>          Videos\n",
      "              19 File(s)        312,754 bytes\n",
      "              26 Dir(s)  926,615,715,840 bytes free\n"
     ]
    }
   ],
   "source": [
    "ls"
   ]
  },
  {
   "cell_type": "code",
   "execution_count": 17,
   "metadata": {},
   "outputs": [],
   "source": [
    "def testFileData(fileName):\n",
    "    f = open(fileName,'w')\n",
    "    f.write('New Line Data\\n')\n",
    "    return\n",
    "testFileData('file.txt')"
   ]
  },
  {
   "cell_type": "code",
   "execution_count": 1,
   "metadata": {},
   "outputs": [
    {
     "ename": "NameError",
     "evalue": "name 'appendDAta' is not defined",
     "output_type": "error",
     "traceback": [
      "\u001b[1;31m---------------------------------------------------------------------------\u001b[0m",
      "\u001b[1;31mNameError\u001b[0m                                 Traceback (most recent call last)",
      "\u001b[1;32m<ipython-input-1-c733467861ff>\u001b[0m in \u001b[0;36m<module>\u001b[1;34m\u001b[0m\n\u001b[0;32m      4\u001b[0m     \u001b[0mprint\u001b[0m\u001b[1;33m(\u001b[0m\u001b[1;34m'DAta is append'\u001b[0m\u001b[1;33m)\u001b[0m\u001b[1;33m\u001b[0m\u001b[1;33m\u001b[0m\u001b[0m\n\u001b[0;32m      5\u001b[0m     \u001b[1;32mreturn\u001b[0m\u001b[1;33m\u001b[0m\u001b[1;33m\u001b[0m\u001b[0m\n\u001b[1;32m----> 6\u001b[1;33m \u001b[0mappendDAta\u001b[0m\u001b[1;33m(\u001b[0m\u001b[1;34m'file1.txt'\u001b[0m\u001b[1;33m)\u001b[0m\u001b[1;33m\u001b[0m\u001b[1;33m\u001b[0m\u001b[0m\n\u001b[0m\u001b[0;32m      7\u001b[0m \u001b[1;33m\u001b[0m\u001b[0m\n",
      "\u001b[1;31mNameError\u001b[0m: name 'appendDAta' is not defined"
     ]
    }
   ],
   "source": [
    "def appendData(fileName):\n",
    "    f = open(fileName,'a')\n",
    "    f.write('Dhayanhita org\\n')\n",
    "    print('DAta is append')\n",
    "    return\n",
    "appendDAta('file1.txt')\n",
    "\n"
   ]
  },
  {
   "cell_type": "code",
   "execution_count": 21,
   "metadata": {},
   "outputs": [
    {
     "ename": "SyntaxError",
     "evalue": "invalid syntax (<ipython-input-21-9c17d876006d>, line 6)",
     "output_type": "error",
     "traceback": [
      "\u001b[1;36m  File \u001b[1;32m\"<ipython-input-21-9c17d876006d>\"\u001b[1;36m, line \u001b[1;32m6\u001b[0m\n\u001b[1;33m    else:\u001b[0m\n\u001b[1;37m       ^\u001b[0m\n\u001b[1;31mSyntaxError\u001b[0m\u001b[1;31m:\u001b[0m invalid syntax\n"
     ]
    }
   ],
   "source": [
    "def readFileData(fileName):\n",
    "    f = open(fileName,'r')\n",
    "    if f.mode =='r':\n",
    "        x=f.read() # var string\n",
    "    print(x)\n",
    "    else:\n",
    "    print('error messages!!!')\n",
    "        return\n",
    "readFileDAta('file1.txt')\n"
   ]
  },
  {
   "cell_type": "code",
   "execution_count": 20,
   "metadata": {},
   "outputs": [
    {
     "data": {
      "text/plain": [
       "7"
      ]
     },
     "execution_count": 20,
     "metadata": {},
     "output_type": "execute_result"
    }
   ],
   "source": [
    "# word count\n",
    "def wordCount(fileName):\n",
    "    li = []\n",
    "    f = open(fileName,'r')\n",
    "    if f.mode =='r':\n",
    "        x = f.read()\n",
    "        li = x.split()\n",
    "        return len(li)\n",
    "wordCount('file.txt')\n",
    "        "
   ]
  },
  {
   "cell_type": "code",
   "execution_count": 22,
   "metadata": {},
   "outputs": [
    {
     "ename": "AttributeError",
     "evalue": "'str' object has no attribute 'list'",
     "output_type": "error",
     "traceback": [
      "\u001b[1;31m---------------------------------------------------------------------------\u001b[0m",
      "\u001b[1;31mAttributeError\u001b[0m                            Traceback (most recent call last)",
      "\u001b[1;32m<ipython-input-22-56fe7b0671ab>\u001b[0m in \u001b[0;36m<module>\u001b[1;34m\u001b[0m\n\u001b[0;32m      1\u001b[0m \u001b[0mli\u001b[0m\u001b[1;33m=\u001b[0m\u001b[1;33m[\u001b[0m\u001b[1;33m]\u001b[0m\u001b[1;33m\u001b[0m\u001b[1;33m\u001b[0m\u001b[0m\n\u001b[0;32m      2\u001b[0m \u001b[0ms\u001b[0m\u001b[1;33m=\u001b[0m\u001b[1;34m\"Dhayanhita Org Pragathi Nagar Hyderabad\"\u001b[0m\u001b[1;33m\u001b[0m\u001b[1;33m\u001b[0m\u001b[0m\n\u001b[1;32m----> 3\u001b[1;33m \u001b[0mli\u001b[0m\u001b[1;33m=\u001b[0m\u001b[0ms\u001b[0m\u001b[1;33m.\u001b[0m\u001b[0mlist\u001b[0m\u001b[1;33m\u001b[0m\u001b[1;33m\u001b[0m\u001b[0m\n\u001b[0m\u001b[0;32m      4\u001b[0m \u001b[0mprint\u001b[0m\u001b[1;33m(\u001b[0m\u001b[0mli\u001b[0m\u001b[1;33m)\u001b[0m\u001b[1;33m\u001b[0m\u001b[1;33m\u001b[0m\u001b[0m\n\u001b[0;32m      5\u001b[0m \u001b[0mprint\u001b[0m\u001b[1;33m(\u001b[0m\u001b[0mlen\u001b[0m\u001b[1;33m(\u001b[0m\u001b[0mli\u001b[0m\u001b[1;33m)\u001b[0m\u001b[1;33m)\u001b[0m\u001b[1;33m\u001b[0m\u001b[1;33m\u001b[0m\u001b[0m\n",
      "\u001b[1;31mAttributeError\u001b[0m: 'str' object has no attribute 'list'"
     ]
    }
   ],
   "source": [
    "li=[]\n",
    "s=\"Dhayanhita Org Pragathi Nagar Hyderabad\"\n",
    "li=s.list\n",
    "print(li)\n",
    "print(len(li))\n"
   ]
  },
  {
   "cell_type": "code",
   "execution_count": 24,
   "metadata": {},
   "outputs": [],
   "source": [
    "def specificWordCount(fileName,Word):\n",
    "    li =[]\n",
    "    f = open(fileName,'r')\n",
    "    if f.mode =='r':\n",
    "        x = f.read()\n",
    "        li = x.split()\n",
    "        cnt = li.count(word)\n",
    "        return cnt\n",
    "    specificWordCount('file1.txt','anil')"
   ]
  },
  {
   "cell_type": "code",
   "execution_count": null,
   "metadata": {},
   "outputs": [],
   "source": [
    "# find character count\n",
    "# find line count\n",
    "# find upper lower list count"
   ]
  },
  {
   "cell_type": "code",
   "execution_count": 27,
   "metadata": {},
   "outputs": [
    {
     "ename": "AttributeError",
     "evalue": "'str' object has no attribute 'list'",
     "output_type": "error",
     "traceback": [
      "\u001b[1;31m---------------------------------------------------------------------------\u001b[0m",
      "\u001b[1;31mAttributeError\u001b[0m                            Traceback (most recent call last)",
      "\u001b[1;32m<ipython-input-27-da400ba6d26d>\u001b[0m in \u001b[0;36m<module>\u001b[1;34m\u001b[0m\n\u001b[0;32m      7\u001b[0m         \u001b[0mli\u001b[0m \u001b[1;33m=\u001b[0m \u001b[0mx\u001b[0m\u001b[1;33m.\u001b[0m\u001b[0mlist\u001b[0m\u001b[1;33m(\u001b[0m\u001b[0mx\u001b[0m\u001b[1;33m)\u001b[0m\u001b[1;33m\u001b[0m\u001b[1;33m\u001b[0m\u001b[0m\n\u001b[0;32m      8\u001b[0m         \u001b[1;32mreturn\u001b[0m \u001b[0mlen\u001b[0m\u001b[1;33m(\u001b[0m\u001b[0mli\u001b[0m\u001b[1;33m)\u001b[0m\u001b[1;33m\u001b[0m\u001b[1;33m\u001b[0m\u001b[0m\n\u001b[1;32m----> 9\u001b[1;33m \u001b[0mwordCount\u001b[0m\u001b[1;33m(\u001b[0m\u001b[1;34m'file1.txt'\u001b[0m\u001b[1;33m)\u001b[0m\u001b[1;33m\u001b[0m\u001b[1;33m\u001b[0m\u001b[0m\n\u001b[0m\u001b[0;32m     10\u001b[0m \u001b[1;33m\u001b[0m\u001b[0m\n",
      "\u001b[1;32m<ipython-input-27-da400ba6d26d>\u001b[0m in \u001b[0;36mwordCount\u001b[1;34m(fileName)\u001b[0m\n\u001b[0;32m      5\u001b[0m     \u001b[1;32mif\u001b[0m \u001b[0mf\u001b[0m\u001b[1;33m.\u001b[0m\u001b[0mmode\u001b[0m \u001b[1;33m==\u001b[0m\u001b[1;34m'r'\u001b[0m\u001b[1;33m:\u001b[0m\u001b[1;33m\u001b[0m\u001b[1;33m\u001b[0m\u001b[0m\n\u001b[0;32m      6\u001b[0m         \u001b[0mx\u001b[0m \u001b[1;33m=\u001b[0m \u001b[0mf\u001b[0m\u001b[1;33m.\u001b[0m\u001b[0mread\u001b[0m\u001b[1;33m(\u001b[0m\u001b[1;33m)\u001b[0m\u001b[1;33m\u001b[0m\u001b[1;33m\u001b[0m\u001b[0m\n\u001b[1;32m----> 7\u001b[1;33m         \u001b[0mli\u001b[0m \u001b[1;33m=\u001b[0m \u001b[0mx\u001b[0m\u001b[1;33m.\u001b[0m\u001b[0mlist\u001b[0m\u001b[1;33m(\u001b[0m\u001b[0mx\u001b[0m\u001b[1;33m)\u001b[0m\u001b[1;33m\u001b[0m\u001b[1;33m\u001b[0m\u001b[0m\n\u001b[0m\u001b[0;32m      8\u001b[0m         \u001b[1;32mreturn\u001b[0m \u001b[0mlen\u001b[0m\u001b[1;33m(\u001b[0m\u001b[0mli\u001b[0m\u001b[1;33m)\u001b[0m\u001b[1;33m\u001b[0m\u001b[1;33m\u001b[0m\u001b[0m\n\u001b[0;32m      9\u001b[0m \u001b[0mwordCount\u001b[0m\u001b[1;33m(\u001b[0m\u001b[1;34m'file1.txt'\u001b[0m\u001b[1;33m)\u001b[0m\u001b[1;33m\u001b[0m\u001b[1;33m\u001b[0m\u001b[0m\n",
      "\u001b[1;31mAttributeError\u001b[0m: 'str' object has no attribute 'list'"
     ]
    }
   ],
   "source": [
    "# word count\n",
    "def wordCount(fileName):\n",
    "    li = []\n",
    "    f = open(fileName,'r')\n",
    "    if f.mode =='r':\n",
    "        x = f.read()\n",
    "        li = x.list(x)\n",
    "        return len(li)\n",
    "wordCount('file.txt')\n",
    "        "
   ]
  },
  {
   "cell_type": "code",
   "execution_count": null,
   "metadata": {},
   "outputs": [],
   "source": []
  }
 ],
 "metadata": {
  "kernelspec": {
   "display_name": "Python 3",
   "language": "python",
   "name": "python3"
  },
  "language_info": {
   "codemirror_mode": {
    "name": "ipython",
    "version": 3
   },
   "file_extension": ".py",
   "mimetype": "text/x-python",
   "name": "python",
   "nbconvert_exporter": "python",
   "pygments_lexer": "ipython3",
   "version": "3.7.4"
  }
 },
 "nbformat": 4,
 "nbformat_minor": 2
}
